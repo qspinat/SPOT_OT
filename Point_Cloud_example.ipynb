{
 "cells": [
  {
   "cell_type": "code",
   "execution_count": 4,
   "metadata": {},
   "outputs": [],
   "source": [
    "import numpy as np\n",
    "import matplotlib.pyplot as plt\n",
    "\n",
    "from assignment import FIST_2D_similarity"
   ]
  },
  {
   "cell_type": "markdown",
   "metadata": {},
   "source": [
    "### Data generation"
   ]
  },
  {
   "cell_type": "code",
   "execution_count": 5,
   "metadata": {},
   "outputs": [],
   "source": [
    "n = 10000\n",
    "m = 100\n",
    "\n",
    "Y1 = np.random.uniform(-1,1,size=(n//3,1))\n",
    "Y1 = np.concatenate((Y1,np.zeros((n//3,1))),axis=1)\n",
    "\n",
    "Y2 = np.random.uniform(-1,1,size=(n//3,1))\n",
    "Y2 = np.concatenate((np.zeros((n//3,1)),Y2),axis=1)\n",
    "\n",
    "Y3 = 2*np.pi*np.random.uniform(0,1,size=n-2*n//3)\n",
    "Y3 = 0.5*np.vstack((np.cos(Y3),np.sin(Y3))).T+[1,1]\n",
    "\n",
    "Y = np.concatenate((Y1,Y2,Y3),axis=0)\n",
    "np.random.shuffle(Y)\n",
    "\n",
    "X = Y[:m].copy().dot(np.array([[np.cos(np.pi/3),np.sin(np.pi/3)],[-np.sin(np.pi/3),np.cos(np.pi/3)]]))*0.3-[2,-0.5]\n",
    "np.random.shuffle(X)"
   ]
  },
  {
   "cell_type": "markdown",
   "metadata": {},
   "source": [
    "### FIST"
   ]
  },
  {
   "cell_type": "code",
   "execution_count": 6,
   "metadata": {},
   "outputs": [
    {
     "name": "stdout",
     "output_type": "stream",
     "text": [
      "0 %\n",
      "objective norm : 5.608882255449393\n",
      "10 %\n",
      "objective norm : 11.305879406037747\n",
      "20 %\n",
      "objective norm : 5.5806818868968575\n",
      "30 %\n",
      "objective norm : 5.371366061993667\n",
      "40 %\n",
      "objective norm : 5.599115053570439\n",
      "50 %\n",
      "objective norm : 5.630332164780289\n",
      "60 %\n",
      "objective norm : 7.7564519452393625\n",
      "70 %\n",
      "objective norm : 6.6203646595331405\n",
      "80 %\n",
      "objective norm : 8.674604120226443\n",
      "90 %\n",
      "objective norm : 5.867114611039666\n"
     ]
    }
   ],
   "source": [
    "n_iter = 20\n",
    "X_match = FIST_2D_similarity(X,Y,n_iter)"
   ]
  },
  {
   "cell_type": "markdown",
   "metadata": {},
   "source": [
    "### Plot"
   ]
  },
  {
   "cell_type": "code",
   "execution_count": 7,
   "metadata": {},
   "outputs": [
    {
     "data": {
      "text/plain": [
       "<matplotlib.legend.Legend at 0x7f3348ffa070>"
      ]
     },
     "execution_count": 7,
     "metadata": {},
     "output_type": "execute_result"
    },
    {
     "data": {
      "image/png": "[encoded data removed]",
      "text/plain": [
       "<Figure size 432x288 with 1 Axes>"
      ]
     },
     "metadata": {
      "needs_background": "light"
     },
     "output_type": "display_data"
    }
   ],
   "source": [
    "plt.figure()\n",
    "plt.scatter(Y[:,0],Y[:,1],label = \"Y data\")\n",
    "plt.scatter(X[:,0],X[:,1],label = \"X data\")\n",
    "plt.scatter(X_match[:,0],X_match[:,1], label = \"iteration \"+str(n_iter))\n",
    "plt.legend()"
   ]
  }
 ],
 "metadata": {
  "kernelspec": {
   "display_name": "Python 3",
   "language": "python",
   "name": "python3"
  },
  "language_info": {
   "codemirror_mode": {
    "name": "ipython",
    "version": 3
   },
   "file_extension": ".py",
   "mimetype": "text/x-python",
   "name": "python",
   "nbconvert_exporter": "python",
   "pygments_lexer": "ipython3",
   "version": "3.8.5"
  }
 },
 "nbformat": 4,
 "nbformat_minor": 4
}
